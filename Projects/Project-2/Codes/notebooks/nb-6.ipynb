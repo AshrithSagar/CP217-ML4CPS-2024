{
 "cells": [
  {
   "cell_type": "markdown",
   "id": "0",
   "metadata": {
    "id": "dc65adbc"
   },
   "source": [
    "# ML4CPS Project-2 | NB-6"
   ]
  },
  {
   "cell_type": "code",
   "execution_count": null,
   "id": "1",
   "metadata": {},
   "outputs": [],
   "source": [
    "import os\n",
    "import sys\n",
    "\n",
    "basepath = os.path.abspath(os.path.join(\"..\"))\n",
    "if not basepath in sys.path:\n",
    "    sys.path.append(basepath)\n",
    "\n",
    "%load_ext autoreload\n",
    "%autoreload 2"
   ]
  },
  {
   "cell_type": "code",
   "execution_count": null,
   "id": "2",
   "metadata": {
    "id": "23dfd585"
   },
   "outputs": [],
   "source": [
    "import matplotlib.pyplot as plt\n",
    "import pandas as pd\n",
    "import numpy as np\n",
    "%matplotlib inline"
   ]
  },
  {
   "cell_type": "code",
   "execution_count": null,
   "id": "3",
   "metadata": {},
   "outputs": [],
   "source": [
    "from utils.dataset import DatasetLoaderXL, DataProcessor, LocationProcessor"
   ]
  },
  {
   "cell_type": "markdown",
   "id": "4",
   "metadata": {},
   "source": [
    "## Load dataset"
   ]
  },
  {
   "cell_type": "code",
   "execution_count": null,
   "id": "5",
   "metadata": {},
   "outputs": [],
   "source": [
    "dsxl = DatasetLoaderXL(dataset_dir=\"../dataset/raw\", seed=42, verbose=True)\n",
    "dsxl.load_all_datasets()"
   ]
  },
  {
   "cell_type": "code",
   "execution_count": null,
   "id": "6",
   "metadata": {},
   "outputs": [],
   "source": [
    "dsxl.list_suburbs()"
   ]
  },
  {
   "cell_type": "code",
   "execution_count": null,
   "id": "7",
   "metadata": {},
   "outputs": [],
   "source": [
    "dsxl.list_categories()"
   ]
  },
  {
   "cell_type": "code",
   "execution_count": null,
   "id": "8",
   "metadata": {},
   "outputs": [],
   "source": [
    "dsxl.list_subcategories(\"Hospital\", console_print=False);"
   ]
  },
  {
   "cell_type": "code",
   "execution_count": null,
   "id": "9",
   "metadata": {},
   "outputs": [],
   "source": [
    "dsxl.list_subcategories(\"Services\", console_print=False);"
   ]
  },
  {
   "cell_type": "code",
   "execution_count": null,
   "id": "10",
   "metadata": {},
   "outputs": [],
   "source": [
    "subcategories = [\n",
    "    \"Category 4 & 5 emergency department presentations\",\n",
    "    \"Distance to nearest public hospital\",\n",
    "    \"Distance to nearest public hospital with emergency department\",\n",
    "    \"Distance to nearest public hospital with maternity services\",\n",
    "    \"Obstetric type separations, 2012-13\",\n",
    "    \"Presentations to emergency departments due to injury\",\n",
    "    \"Presentations to emergency departments, 2012-13\",\n",
    "    \"Public hospital separations, 2012-13\",\n",
    "    \"Time to nearest public hospital with maternity services\",\n",
    "    \"Travel time to nearest public hospital\",\n",
    "    \"Travel time to nearest public hospital with emergency department\",\n",
    "    \"Primary Schools\",\n",
    "]\n",
    "df = dsxl.get_subcategories_across_all_suburbs(subcategories)"
   ]
  },
  {
   "cell_type": "code",
   "execution_count": null,
   "id": "11",
   "metadata": {},
   "outputs": [],
   "source": [
    "df.replace('<5', np.nan, inplace=True)\n",
    "df = df.apply(pd.to_numeric, errors='coerce')\n",
    "df"
   ]
  },
  {
   "cell_type": "code",
   "execution_count": null,
   "id": "12",
   "metadata": {},
   "outputs": [],
   "source": [
    "dp = DataProcessor(df)\n",
    "dp.normalize()\n",
    "pairs = dp.get_topk_abs_correlations(k=None, ascending=False)\n",
    "pairs"
   ]
  },
  {
   "cell_type": "code",
   "execution_count": null,
   "id": "13",
   "metadata": {},
   "outputs": [],
   "source": [
    "filtered_pairs = pairs[(pairs['Variable1'] == 'Primary Schools') | (pairs['Variable2'] == 'Primary Schools')]\n",
    "pairs = filtered_pairs\n",
    "pairs.reset_index(drop=True, inplace=True)\n",
    "pairs"
   ]
  },
  {
   "cell_type": "code",
   "execution_count": null,
   "id": "14",
   "metadata": {},
   "outputs": [],
   "source": [
    "pairs = pairs.apply(lambda row: row if row['Variable1'] == 'Primary Schools' else pd.Series({'Variable1': row['Variable2'], 'Variable2': row['Variable1'], 'Correlation': row['Correlation'], 'AbsCorrelation': row['AbsCorrelation']}), axis=1)\n",
    "pairs.reset_index(drop=True, inplace=True)\n",
    "pairs"
   ]
  },
  {
   "cell_type": "code",
   "execution_count": null,
   "id": "15",
   "metadata": {},
   "outputs": [],
   "source": [
    "fig, axes = plt.subplots(nrows=pairs.shape[0], ncols=1, figsize=(10, 5*pairs.shape[0]))\n",
    "\n",
    "for i, (index, row) in enumerate(pairs.iterrows()):\n",
    "    ax = axes[i] if pairs.shape[0] > 1 else axes\n",
    "    var1 = row['Variable1']\n",
    "    var2 = row['Variable2']\n",
    "    ax.scatter(dp.df[var1], dp.df[var2], alpha=0.5)\n",
    "    ax.set_xlabel(var1)\n",
    "    ax.set_ylabel(var2)\n",
    "    ax.set_title(f\"Correlation: {row['Correlation']:.2f}\")\n",
    "plt.tight_layout()\n",
    "plt.show()"
   ]
  },
  {
   "cell_type": "code",
   "execution_count": null,
   "id": "16",
   "metadata": {},
   "outputs": [],
   "source": []
  }
 ],
 "metadata": {
  "colab": {
   "provenance": []
  },
  "kernelspec": {
   "display_name": "tf",
   "language": "python",
   "name": "python3"
  },
  "language_info": {
   "codemirror_mode": {
    "name": "ipython",
    "version": 3
   },
   "file_extension": ".py",
   "mimetype": "text/x-python",
   "name": "python",
   "nbconvert_exporter": "python",
   "pygments_lexer": "ipython3",
   "version": "3.9.20"
  }
 },
 "nbformat": 4,
 "nbformat_minor": 5
}
