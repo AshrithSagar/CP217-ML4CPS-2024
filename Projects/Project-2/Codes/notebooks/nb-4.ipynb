{
 "cells": [
  {
   "cell_type": "markdown",
   "id": "0",
   "metadata": {
    "id": "dc65adbc"
   },
   "source": [
    "# ML4CPS Project-2 | NB-4"
   ]
  },
  {
   "cell_type": "code",
   "execution_count": null,
   "id": "1",
   "metadata": {},
   "outputs": [],
   "source": [
    "import os\n",
    "import sys\n",
    "\n",
    "basepath = os.path.abspath(os.path.join(\"..\"))\n",
    "if not basepath in sys.path:\n",
    "    sys.path.append(basepath)\n",
    "\n",
    "%load_ext autoreload\n",
    "%autoreload 2"
   ]
  },
  {
   "cell_type": "code",
   "execution_count": null,
   "id": "2",
   "metadata": {
    "id": "23dfd585"
   },
   "outputs": [],
   "source": [
    "import matplotlib.pyplot as plt\n",
    "%matplotlib inline"
   ]
  },
  {
   "cell_type": "code",
   "execution_count": null,
   "id": "3",
   "metadata": {},
   "outputs": [],
   "source": [
    "from utils.dataset import DatasetLoaderXL, DataProcessor, LocationProcessor"
   ]
  },
  {
   "cell_type": "markdown",
   "id": "4",
   "metadata": {},
   "source": [
    "## Load dataset"
   ]
  },
  {
   "cell_type": "code",
   "execution_count": null,
   "id": "5",
   "metadata": {},
   "outputs": [],
   "source": [
    "dsxl = DatasetLoaderXL(dataset_dir=\"../dataset/raw\", seed=42, verbose=True)\n",
    "dsxl.load_all_datasets()"
   ]
  },
  {
   "cell_type": "code",
   "execution_count": null,
   "id": "6",
   "metadata": {},
   "outputs": [],
   "source": [
    "dsxl.list_suburbs()"
   ]
  },
  {
   "cell_type": "code",
   "execution_count": null,
   "id": "7",
   "metadata": {},
   "outputs": [],
   "source": [
    "dsxl.list_categories()"
   ]
  },
  {
   "cell_type": "code",
   "execution_count": null,
   "id": "8",
   "metadata": {},
   "outputs": [],
   "source": [
    "dsxl.list_subcategories(\"Hospital\", console_print=False);\n",
    "dsxl.list_subcategories(\"Services\", console_print=False);"
   ]
  },
  {
   "cell_type": "code",
   "execution_count": null,
   "id": "9",
   "metadata": {},
   "outputs": [],
   "source": [
    "subcategories = [\n",
    "    \"Category 4 & 5 emergency department presentations\",\n",
    "    \"Distance to nearest public hospital\",\n",
    "    \"Distance to nearest public hospital with emergency department\",\n",
    "    \"Distance to nearest public hospital with maternity services\",\n",
    "    \"Presentations to emergency departments due to injury\",\n",
    "    \"Presentations to emergency departments, 2012-13\",\n",
    "    \"Public hospital separations, 2012-13\",\n",
    "    \"Time to nearest public hospital with maternity services\",\n",
    "    \"Travel time to nearest public hospital\",\n",
    "    \"Travel time to nearest public hospital with emergency department\",\n",
    "]\n",
    "df = dsxl.get_subcategories_across_all_suburbs(subcategories)"
   ]
  },
  {
   "cell_type": "code",
   "execution_count": null,
   "id": "10",
   "metadata": {},
   "outputs": [],
   "source": [
    "subcategories = [\n",
    "    \"Aged Care (High Care)\",\n",
    "    \"Aged Care (Low Care)\",\n",
    "    \"Aged Care (SRS)\",\n",
    "    \"Allied Health\",\n",
    "    \"Alternative Health\",\n",
    "    \"Bush Nursing Centres\",\n",
    "    \"Centrelink Offices\",\n",
    "    \"Child Protection and Family\",\n",
    "    \"Community Health Centres\",\n",
    "    \"Dental\",\n",
    "    \"Disability\",\n",
    "    \"General Practice\",\n",
    "    \"Homelessness\",\n",
    "    \"Kinder and/or Childcare\",\n",
    "    \"Medicare Access Points\",\n",
    "    \"Medicare Offices\",\n",
    "    \"Mental Health\",\n",
    "    \"Other Schools\",\n",
    "    \"P12 Schools\",\n",
    "    \"Pharmacies\",\n",
    "    \"Primary Schools\",\n",
    "    \"Private Hospitals\",\n",
    "    \"Public Hospitals\",\n",
    "    \"Secondary Schools\",\n",
    "]\n",
    "df = dsxl.get_subcategories_across_all_suburbs(subcategories)\n",
    "df.T"
   ]
  },
  {
   "cell_type": "code",
   "execution_count": null,
   "id": "11",
   "metadata": {},
   "outputs": [],
   "source": [
    "dp = DataProcessor(df)\n",
    "dp.normalize()\n",
    "dp.get_topk_abs_correlations(k=10)"
   ]
  },
  {
   "cell_type": "code",
   "execution_count": null,
   "id": "12",
   "metadata": {},
   "outputs": [],
   "source": [
    "dp.run_anova_analysis(subcategories)"
   ]
  },
  {
   "cell_type": "code",
   "execution_count": null,
   "id": "13",
   "metadata": {},
   "outputs": [],
   "source": [
    "dp.plot_dendrogram()"
   ]
  },
  {
   "cell_type": "code",
   "execution_count": null,
   "id": "14",
   "metadata": {},
   "outputs": [],
   "source": [
    "dfs = dp.get_similarity_matrix(metric=\"euclidean\")"
   ]
  },
  {
   "cell_type": "code",
   "execution_count": null,
   "id": "15",
   "metadata": {},
   "outputs": [],
   "source": [
    "dfs = dp.get_similarity_matrix(metric=\"cosine\")"
   ]
  },
  {
   "cell_type": "code",
   "execution_count": null,
   "id": "16",
   "metadata": {},
   "outputs": [],
   "source": [
    "dp.get_similar_suburbs(dfs, n_neighbours=3)"
   ]
  },
  {
   "cell_type": "code",
   "execution_count": null,
   "id": "17",
   "metadata": {},
   "outputs": [],
   "source": [
    "dp.plot_similarity_heatmap(dfs);"
   ]
  },
  {
   "cell_type": "code",
   "execution_count": null,
   "id": "18",
   "metadata": {},
   "outputs": [],
   "source": [
    "dfs = dp.get_similarity_matrix(metric=\"euclidean\")\n",
    "mds_df = dp.run_metric_mds_and_plot(dfs, isMetricMDS=True);\n",
    "dp.plot_dendrogram(mds_df)"
   ]
  },
  {
   "cell_type": "code",
   "execution_count": null,
   "id": "19",
   "metadata": {},
   "outputs": [],
   "source": [
    "locations = dsxl.get_subcategory_across_all_suburbs(\"Location\")\n",
    "lp = LocationProcessor(locations)\n",
    "coordinates = lp.get_coordinates()\n",
    "lp.calculate_proximity_matrix()"
   ]
  },
  {
   "cell_type": "code",
   "execution_count": null,
   "id": "20",
   "metadata": {},
   "outputs": [],
   "source": [
    "coordinates = lp.reflect_coordinates(coordinates)\n",
    "coordinates = lp.rotate_coordinates(coordinates, angle=90)\n",
    "lp.plot_coordinates(coordinates)"
   ]
  },
  {
   "cell_type": "code",
   "execution_count": null,
   "id": "21",
   "metadata": {},
   "outputs": [],
   "source": []
  }
 ],
 "metadata": {
  "colab": {
   "provenance": []
  },
  "kernelspec": {
   "display_name": "tf",
   "language": "python",
   "name": "python3"
  },
  "language_info": {
   "codemirror_mode": {
    "name": "ipython",
    "version": 3
   },
   "file_extension": ".py",
   "mimetype": "text/x-python",
   "name": "python",
   "nbconvert_exporter": "python",
   "pygments_lexer": "ipython3",
   "version": "3.9.20"
  }
 },
 "nbformat": 4,
 "nbformat_minor": 5
}
