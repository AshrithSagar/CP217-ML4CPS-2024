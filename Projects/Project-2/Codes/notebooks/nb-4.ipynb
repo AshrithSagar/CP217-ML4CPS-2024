{
 "cells": [
  {
   "cell_type": "markdown",
   "id": "0",
   "metadata": {
    "id": "dc65adbc"
   },
   "source": [
    "# ML4CPS Project-2 | NB-4"
   ]
  },
  {
   "cell_type": "code",
   "execution_count": null,
   "id": "1",
   "metadata": {},
   "outputs": [],
   "source": [
    "import os\n",
    "import sys\n",
    "\n",
    "basepath = os.path.abspath(os.path.join(\"..\"))\n",
    "if not basepath in sys.path:\n",
    "    sys.path.append(basepath)\n",
    "\n",
    "%load_ext autoreload\n",
    "%autoreload 2"
   ]
  },
  {
   "cell_type": "code",
   "execution_count": null,
   "id": "2",
   "metadata": {
    "id": "23dfd585"
   },
   "outputs": [],
   "source": [
    "from sklearn.manifold import MDS\n",
    "import matplotlib.pyplot as plt\n",
    "import numpy as np\n",
    "import pandas as pd\n",
    "import seaborn as sns\n",
    "%matplotlib inline"
   ]
  },
  {
   "cell_type": "code",
   "execution_count": null,
   "id": "3",
   "metadata": {},
   "outputs": [],
   "source": [
    "from utils.dataset import DatasetLoaderXL"
   ]
  },
  {
   "cell_type": "markdown",
   "id": "4",
   "metadata": {},
   "source": [
    "## Load dataset"
   ]
  },
  {
   "cell_type": "code",
   "execution_count": null,
   "id": "5",
   "metadata": {},
   "outputs": [],
   "source": [
    "dsxl = DatasetLoaderXL(dataset_dir=\"../dataset/raw\", seed=42, verbose=True)\n",
    "dsxl.load_all_datasets()"
   ]
  },
  {
   "cell_type": "code",
   "execution_count": null,
   "id": "6",
   "metadata": {},
   "outputs": [],
   "source": [
    "dsxl.list_suburbs()"
   ]
  },
  {
   "cell_type": "code",
   "execution_count": null,
   "id": "7",
   "metadata": {},
   "outputs": [],
   "source": [
    "dsxl.list_categories()"
   ]
  },
  {
   "cell_type": "code",
   "execution_count": null,
   "id": "8",
   "metadata": {},
   "outputs": [],
   "source": [
    "dsxl.list_subcategories(\"Geography\");"
   ]
  },
  {
   "cell_type": "code",
   "execution_count": null,
   "id": "9",
   "metadata": {},
   "outputs": [],
   "source": [
    "subcategories = [\n",
    "    \"Population Density\",\n",
    "    \"Travel time to GPO (minutes)\",\n",
    "    \"Distance to GPO (km)\",\n",
    "    \"Area (km^2)\",\n",
    "]\n",
    "df = dsxl.get_subcategories_across_all_suburbs(subcategories)\n",
    "df"
   ]
  },
  {
   "cell_type": "code",
   "execution_count": null,
   "id": "10",
   "metadata": {},
   "outputs": [],
   "source": [
    "from sklearn.preprocessing import minmax_scale\n",
    "\n",
    "df_norm = minmax_scale(df, axis=0)\n",
    "df_norm = pd.DataFrame(df_norm, columns=df.columns, index=df.index)\n",
    "df_norm"
   ]
  },
  {
   "cell_type": "code",
   "execution_count": null,
   "id": "11",
   "metadata": {},
   "outputs": [],
   "source": [
    "correlation_matrix = df.corr()\n",
    "correlation_matrix"
   ]
  },
  {
   "cell_type": "code",
   "execution_count": null,
   "id": "12",
   "metadata": {
    "vscode": {
     "languageId": "ruby"
    }
   },
   "outputs": [],
   "source": [
    "correlation_pairs = correlation_matrix.unstack().reset_index()\n",
    "correlation_pairs.columns = ['Variable1', 'Variable2', 'Correlation']\n",
    "correlation_pairs['AbsCorrelation'] = correlation_pairs['Correlation'].abs()\n",
    "correlation_pairs = correlation_pairs[correlation_pairs['Variable1'] != correlation_pairs['Variable2']]\n",
    "correlation_pairs = correlation_pairs.sort_values(by='AbsCorrelation', ascending=True)\n",
    "correlation_pairs = correlation_pairs[correlation_pairs['Variable1'] < correlation_pairs['Variable2']]\n",
    "correlation_pairs"
   ]
  },
  {
   "cell_type": "code",
   "execution_count": null,
   "id": "13",
   "metadata": {},
   "outputs": [],
   "source": [
    "from scipy.stats import f_oneway\n",
    "\n",
    "anova_results = {}\n",
    "for subcategory in subcategories:\n",
    "    anova_results[subcategory] = f_oneway(*[df[subcategory].values for suburb in df.index])\n",
    "anova_results"
   ]
  },
  {
   "cell_type": "code",
   "execution_count": null,
   "id": "14",
   "metadata": {},
   "outputs": [],
   "source": [
    "import scipy.cluster.hierarchy as sch\n",
    "import matplotlib.pyplot as plt\n",
    "\n",
    "plt.figure(figsize=(10, 7))\n",
    "dendrogram = sch.dendrogram(sch.linkage(df_norm, method='ward'))\n",
    "plt.title('Dendrogram')\n",
    "plt.xlabel('Suburbs')\n",
    "plt.ylabel('Euclidean distances')\n",
    "plt.show()"
   ]
  },
  {
   "cell_type": "code",
   "execution_count": null,
   "id": "15",
   "metadata": {},
   "outputs": [],
   "source": []
  },
  {
   "cell_type": "code",
   "execution_count": null,
   "id": "16",
   "metadata": {},
   "outputs": [],
   "source": [
    "from sklearn.metrics.pairwise import euclidean_distances, cosine_similarity"
   ]
  },
  {
   "cell_type": "code",
   "execution_count": null,
   "id": "17",
   "metadata": {},
   "outputs": [],
   "source": [
    "def get_similarity_matrix(df, metric):\n",
    "    return pd.DataFrame(metric(df), index=df.index, columns=df.index)"
   ]
  },
  {
   "cell_type": "code",
   "execution_count": null,
   "id": "18",
   "metadata": {},
   "outputs": [],
   "source": [
    "euclidean_similarity = lambda x: 1/(1 + euclidean_distances(x))"
   ]
  },
  {
   "cell_type": "code",
   "execution_count": null,
   "id": "19",
   "metadata": {},
   "outputs": [],
   "source": [
    "dfs = get_similarity_matrix(df_norm, euclidean_similarity)\n",
    "dfs"
   ]
  },
  {
   "cell_type": "code",
   "execution_count": null,
   "id": "20",
   "metadata": {},
   "outputs": [],
   "source": [
    "dfs = get_similarity_matrix(df_norm, cosine_similarity)\n",
    "dfs"
   ]
  },
  {
   "cell_type": "code",
   "execution_count": null,
   "id": "21",
   "metadata": {},
   "outputs": [],
   "source": [
    "def get_similar_suburbs(similarity_matrix, n=5):\n",
    "    similarity_matrix = similarity_matrix.copy()\n",
    "    np.fill_diagonal(similarity_matrix.values, 0)\n",
    "    return similarity_matrix.apply(lambda x: x.nlargest(n).index.tolist(), axis=1)"
   ]
  },
  {
   "cell_type": "code",
   "execution_count": null,
   "id": "22",
   "metadata": {},
   "outputs": [],
   "source": [
    "get_similar_suburbs(dfs, 5)"
   ]
  },
  {
   "cell_type": "code",
   "execution_count": null,
   "id": "23",
   "metadata": {},
   "outputs": [],
   "source": [
    "def run_mds_and_plot(similarity_matrix, n_components=2, random_state=42):\n",
    "    mds = MDS(n_components=n_components, dissimilarity=\"precomputed\", random_state=random_state)\n",
    "    dissimilarity_matrix = 1 - similarity_matrix\n",
    "    mds_results = mds.fit_transform(dissimilarity_matrix)\n",
    "    mds_df = pd.DataFrame(mds_results, index=similarity_matrix.index, columns=[f\"MDS{i+1}\" for i in range(n_components)])\n",
    "\n",
    "    plt.figure(figsize=(10, 7))\n",
    "    sns.scatterplot(x=\"MDS1\", y=\"MDS2\", data=mds_df)\n",
    "    for i in mds_df.index:\n",
    "        plt.text(mds_df.loc[i, \"MDS1\"], mds_df.loc[i, \"MDS2\"], i, fontsize=9)\n",
    "    plt.title('MDS Plot')\n",
    "    plt.xlabel('MDS1')\n",
    "    plt.ylabel('MDS2')\n",
    "    plt.show()\n",
    "\n",
    "    return mds_df\n",
    "\n",
    "mds_df = run_mds_and_plot(dfs)"
   ]
  },
  {
   "cell_type": "code",
   "execution_count": null,
   "id": "24",
   "metadata": {},
   "outputs": [],
   "source": [
    "dsxl.get_subcategory_across_all_suburbs(\"Location\")"
   ]
  },
  {
   "cell_type": "code",
   "execution_count": null,
   "id": "25",
   "metadata": {},
   "outputs": [],
   "source": [
    "import re\n",
    "from math import radians, sin, cos, sqrt\n",
    "\n",
    "def extract_coordinates(location):\n",
    "    match = re.search(r'(\\d+)km ([A-Z]+) of Melbourne', location)\n",
    "    if match:\n",
    "        distance = int(match.group(1))\n",
    "        direction = match.group(2)\n",
    "        angle = {\n",
    "            'N': 0,\n",
    "            'NNE': 22.5,\n",
    "            'NE': 45,\n",
    "            'ENE': 67.5,\n",
    "            'E': 90,\n",
    "            'ESE': 112.5,\n",
    "            'SE': 135,\n",
    "            'SSE': 157.5,\n",
    "            'S': 180,\n",
    "            'SSW': 202.5,\n",
    "            'SW': 225,\n",
    "            'WSW': 247.5,\n",
    "            'W': 270,\n",
    "            'WNW': 292.5,\n",
    "            'NW': 315,\n",
    "            'NNW': 337.5\n",
    "        }[direction]\n",
    "        return distance, angle\n",
    "    return None, None\n",
    "\n",
    "def polar_to_cartesian(distance, angle):\n",
    "    angle_rad = radians(angle)\n",
    "    x = distance * cos(angle_rad)\n",
    "    y = distance * sin(angle_rad)\n",
    "    return x, y\n",
    "\n",
    "def calculate_proximity_matrix(coordinates):\n",
    "    suburbs = list(coordinates.keys())\n",
    "    proximity_matrix = pd.DataFrame(index=suburbs, columns=suburbs)\n",
    "    for suburb1 in suburbs:\n",
    "        for suburb2 in suburbs:\n",
    "            x1, y1 = coordinates[suburb1]\n",
    "            x2, y2 = coordinates[suburb2]\n",
    "            distance = sqrt((x2 - x1)**2 + (y2 - y1)**2)\n",
    "            proximity_matrix.loc[suburb1, suburb2] = distance\n",
    "    return proximity_matrix\n",
    "\n",
    "def get_coordinates():\n",
    "    coordinates = {}\n",
    "    location_df = dsxl.get_subcategory_across_all_suburbs(\"Location\")\n",
    "    for suburb, row in location_df.iterrows():\n",
    "        distance, angle = extract_coordinates(row['Location'])\n",
    "        if distance is not None and angle is not None:\n",
    "            coordinates[suburb] = polar_to_cartesian(distance, angle)\n",
    "    return coordinates"
   ]
  },
  {
   "cell_type": "code",
   "execution_count": null,
   "id": "26",
   "metadata": {},
   "outputs": [],
   "source": [
    "coordinates = get_coordinates()\n",
    "proximity_matrix = calculate_proximity_matrix(coordinates)\n",
    "proximity_matrix"
   ]
  },
  {
   "cell_type": "code",
   "execution_count": null,
   "id": "27",
   "metadata": {},
   "outputs": [],
   "source": [
    "def rotate_coordinates(coordinates, angle):\n",
    "    angle_rad = radians(angle)\n",
    "    rotated_coords = {}\n",
    "    for suburb, (x, y) in coordinates.items():\n",
    "        x_rot = x * cos(angle_rad) - y * sin(angle_rad)\n",
    "        y_rot = x * sin(angle_rad) + y * cos(angle_rad)\n",
    "        rotated_coords[suburb] = (x_rot, y_rot)\n",
    "    return rotated_coords\n",
    "\n",
    "def reflect_coordinates(coordinates):\n",
    "    reflected_coords = {}\n",
    "    for suburb, (x, y) in coordinates.items():\n",
    "        reflected_coords[suburb] = (-x, -y)\n",
    "    return reflected_coords\n",
    "\n",
    "def reflect_coordinates2(coordinates):\n",
    "    reflected_coords = {}\n",
    "    for suburb, (x, y) in coordinates.items():\n",
    "        reflected_coords[suburb] = (-x, y)\n",
    "    return reflected_coords"
   ]
  },
  {
   "cell_type": "code",
   "execution_count": null,
   "id": "28",
   "metadata": {},
   "outputs": [],
   "source": [
    "coordinates = get_coordinates()\n",
    "coordinates = reflect_coordinates(coordinates)\n",
    "coordinates = reflect_coordinates2(coordinates)\n",
    "coordinates = rotate_coordinates(coordinates, 90)\n",
    "\n",
    "plt.figure(figsize=(10, 10))\n",
    "for suburb, (x, y) in coordinates.items():\n",
    "    plt.scatter(x, y, label=suburb)\n",
    "    plt.text(x, y, suburb, fontsize=9)\n",
    "\n",
    "plt.title('Suburb Coordinates')\n",
    "plt.xlabel('X Coordinate')\n",
    "plt.ylabel('Y Coordinate')\n",
    "plt.grid(True)\n",
    "# plt.legend(loc='best', bbox_to_anchor=(1, 1))\n",
    "plt.show()"
   ]
  },
  {
   "cell_type": "code",
   "execution_count": null,
   "id": "29",
   "metadata": {},
   "outputs": [],
   "source": []
  }
 ],
 "metadata": {
  "colab": {
   "provenance": []
  },
  "kernelspec": {
   "display_name": "tf",
   "language": "python",
   "name": "python3"
  },
  "language_info": {
   "codemirror_mode": {
    "name": "ipython",
    "version": 3
   },
   "file_extension": ".py",
   "mimetype": "text/x-python",
   "name": "python",
   "nbconvert_exporter": "python",
   "pygments_lexer": "ipython3",
   "version": "3.9.20"
  }
 },
 "nbformat": 4,
 "nbformat_minor": 5
}
