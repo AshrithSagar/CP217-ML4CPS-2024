{
 "cells": [
  {
   "cell_type": "markdown",
   "id": "0",
   "metadata": {
    "id": "dc65adbc"
   },
   "source": [
    "# ML4CPS Project-2 | NB-5"
   ]
  },
  {
   "cell_type": "code",
   "execution_count": null,
   "id": "1",
   "metadata": {},
   "outputs": [],
   "source": [
    "import os\n",
    "import sys\n",
    "\n",
    "basepath = os.path.abspath(os.path.join(\"..\"))\n",
    "if not basepath in sys.path:\n",
    "    sys.path.append(basepath)\n",
    "\n",
    "%load_ext autoreload\n",
    "%autoreload 2"
   ]
  },
  {
   "cell_type": "code",
   "execution_count": null,
   "id": "2",
   "metadata": {
    "id": "23dfd585"
   },
   "outputs": [],
   "source": [
    "import matplotlib.pyplot as plt\n",
    "import pandas as pd\n",
    "%matplotlib inline"
   ]
  },
  {
   "cell_type": "code",
   "execution_count": null,
   "id": "3",
   "metadata": {},
   "outputs": [],
   "source": [
    "from utils.dataset import DatasetLoaderXL, DataProcessor, LocationProcessor"
   ]
  },
  {
   "cell_type": "markdown",
   "id": "4",
   "metadata": {},
   "source": [
    "## Load dataset"
   ]
  },
  {
   "cell_type": "code",
   "execution_count": null,
   "id": "5",
   "metadata": {},
   "outputs": [],
   "source": [
    "dsxl = DatasetLoaderXL(dataset_dir=\"../dataset/raw\", seed=42, verbose=True)\n",
    "dsxl.load_all_datasets()"
   ]
  },
  {
   "cell_type": "code",
   "execution_count": null,
   "id": "6",
   "metadata": {},
   "outputs": [],
   "source": [
    "dsxl.list_suburbs()"
   ]
  },
  {
   "cell_type": "code",
   "execution_count": null,
   "id": "7",
   "metadata": {},
   "outputs": [],
   "source": [
    "dsxl.list_categories()"
   ]
  },
  {
   "cell_type": "code",
   "execution_count": null,
   "id": "8",
   "metadata": {},
   "outputs": [],
   "source": [
    "dsxl.list_subcategories(\"2012 population\", console_print=False);\n",
    "dsxl.list_subcategories(\"2007 population\", console_print=False);\n",
    "dsxl.list_subcategories(\"2007-2012 population change\", console_print=False);"
   ]
  },
  {
   "cell_type": "code",
   "execution_count": null,
   "id": "9",
   "metadata": {},
   "outputs": [],
   "source": [
    "subcategories = [\n",
    "    # 2012 population\n",
    "    \"2012 ERP age 0-4, persons\",\n",
    "    \"2012 ERP age 10-14, persons\",\n",
    "    \"2012 ERP age 15-19, persons\",\n",
    "    \"2012 ERP age 20-24, persons\",\n",
    "    \"2012 ERP age 25-44, persons\",\n",
    "    \"2012 ERP age 45-64, persons\",\n",
    "    \"2012 ERP age 5-9, persons\",\n",
    "    \"2012 ERP age 65-69, persons\",\n",
    "    \"2012 ERP age 70-74, persons\",\n",
    "    \"2012 ERP age 75-79, persons\",\n",
    "    \"2012 ERP age 80-84, persons\",\n",
    "    \"2012 ERP age 85+, persons\",\n",
    "    \"2012 ERP, total\",\n",
    "    # 2007 population\n",
    "    \"2007 ERP age 0-4, persons\",\n",
    "    \"2007 ERP age 10-14, persons\",\n",
    "    \"2007 ERP age 15-19, persons\",\n",
    "    \"2007 ERP age 20-24, persons\",\n",
    "    \"2007 ERP age 25-44, persons\",\n",
    "    \"2007 ERP age 45-64, persons\",\n",
    "    \"2007 ERP age 5-9, persons\",\n",
    "    \"2007 ERP age 65-69, persons\",\n",
    "    \"2007 ERP age 70-74, persons\",\n",
    "    \"2007 ERP age 75-79, persons\",\n",
    "    \"2007 ERP age 80-84, persons\",\n",
    "    \"2007 ERP age 85+, persons\",\n",
    "    \"2007 ERP, total\",\n",
    "]\n",
    "df = dsxl.get_subcategories_across_all_suburbs(subcategories)\n",
    "df = df.replace('n/a', pd.NA).dropna()"
   ]
  },
  {
   "cell_type": "code",
   "execution_count": null,
   "id": "10",
   "metadata": {},
   "outputs": [],
   "source": [
    "dp = DataProcessor(df)\n",
    "dp.normalize()\n",
    "pairs = dp.get_topk_abs_correlations(k=10)\n",
    "dp.correlations_to_latex(pairs, filename=\"correlations.tex\")\n",
    "pairs"
   ]
  },
  {
   "cell_type": "code",
   "execution_count": null,
   "id": "11",
   "metadata": {},
   "outputs": [],
   "source": [
    "subcategories = sorted(set(pairs['Variable1']).union(set(pairs['Variable2'])))\n",
    "df = dsxl.get_subcategories_across_all_suburbs(subcategories)\n",
    "df = df.replace('n/a', pd.NA).dropna()\n",
    "dp = DataProcessor(df)\n",
    "dp.normalize()"
   ]
  },
  {
   "cell_type": "code",
   "execution_count": null,
   "id": "12",
   "metadata": {},
   "outputs": [],
   "source": [
    "anova_results = dp.run_anova_analysis(subcategories)\n",
    "dp.export_anova_to_latex(anova_results, filename=\"anova-popul.tex\")\n",
    "anova_results"
   ]
  },
  {
   "cell_type": "code",
   "execution_count": null,
   "id": "13",
   "metadata": {},
   "outputs": [],
   "source": [
    "dp.plot_dendrogram()"
   ]
  },
  {
   "cell_type": "code",
   "execution_count": null,
   "id": "14",
   "metadata": {},
   "outputs": [],
   "source": [
    "dfs = dp.get_similarity_matrix(metric=\"euclidean\")\n",
    "dp.get_similar_suburbs(dfs, n_neighbours=3)\n",
    "dp.plot_heatmap(dfs, \"Similarity heatmap\")"
   ]
  },
  {
   "cell_type": "code",
   "execution_count": null,
   "id": "15",
   "metadata": {},
   "outputs": [],
   "source": [
    "locations = dsxl.get_subcategory_across_all_suburbs(\"Location\")\n",
    "lp = LocationProcessor(locations)\n",
    "coordinates = lp.get_coordinates()\n",
    "proximity_matrix = lp.calculate_proximity_matrix()\n",
    "proximity_matrix = pd.DataFrame(proximity_matrix).apply(pd.to_numeric, errors='coerce')\n",
    "dp.plot_heatmap(proximity_matrix, title=\"Proximity Matrix\")"
   ]
  },
  {
   "cell_type": "code",
   "execution_count": null,
   "id": "16",
   "metadata": {},
   "outputs": [],
   "source": [
    "coordinates = lp.reflect_coordinates(coordinates)\n",
    "coordinates = lp.rotate_coordinates(coordinates, angle=90)\n",
    "lp.plot_coordinates(coordinates)"
   ]
  },
  {
   "cell_type": "code",
   "execution_count": null,
   "id": "17",
   "metadata": {},
   "outputs": [],
   "source": []
  }
 ],
 "metadata": {
  "colab": {
   "provenance": []
  },
  "kernelspec": {
   "display_name": "tf",
   "language": "python",
   "name": "python3"
  },
  "language_info": {
   "codemirror_mode": {
    "name": "ipython",
    "version": 3
   },
   "file_extension": ".py",
   "mimetype": "text/x-python",
   "name": "python",
   "nbconvert_exporter": "python",
   "pygments_lexer": "ipython3",
   "version": "3.9.20"
  }
 },
 "nbformat": 4,
 "nbformat_minor": 5
}
