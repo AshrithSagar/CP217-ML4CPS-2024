{
 "cells": [
  {
   "cell_type": "markdown",
   "id": "0",
   "metadata": {
    "id": "dc65adbc"
   },
   "source": [
    "# ML4CPS Project-2 | NB-2"
   ]
  },
  {
   "cell_type": "code",
   "execution_count": null,
   "id": "1",
   "metadata": {},
   "outputs": [],
   "source": [
    "import os\n",
    "import sys\n",
    "\n",
    "basepath = os.path.abspath(os.path.join(\"..\"))\n",
    "if not basepath in sys.path:\n",
    "    sys.path.append(basepath)\n",
    "\n",
    "%load_ext autoreload\n",
    "%autoreload 2"
   ]
  },
  {
   "cell_type": "code",
   "execution_count": null,
   "id": "2",
   "metadata": {
    "id": "23dfd585"
   },
   "outputs": [],
   "source": [
    "import numpy as np\n",
    "import matplotlib.pyplot as plt\n",
    "import pandas as pd\n",
    "from sklearn.decomposition import PCA\n",
    "import seaborn as sns\n",
    "from sklearn.preprocessing import StandardScaler\n",
    "%matplotlib inline"
   ]
  },
  {
   "cell_type": "code",
   "execution_count": null,
   "id": "3",
   "metadata": {},
   "outputs": [],
   "source": [
    "from utils.dataset import DatasetLoaderXL"
   ]
  },
  {
   "cell_type": "code",
   "execution_count": null,
   "id": "4",
   "metadata": {},
   "outputs": [],
   "source": [
    "SEED = 42"
   ]
  },
  {
   "cell_type": "markdown",
   "id": "5",
   "metadata": {},
   "source": [
    "## Load dataset"
   ]
  },
  {
   "cell_type": "code",
   "execution_count": null,
   "id": "6",
   "metadata": {},
   "outputs": [],
   "source": [
    "dsxl = DatasetLoaderXL(dataset_dir=\"../dataset\")\n",
    "dsxl.load_all_datasets()\n",
    "dsxl.list_suburbs();"
   ]
  },
  {
   "cell_type": "code",
   "execution_count": null,
   "id": "7",
   "metadata": {},
   "outputs": [],
   "source": [
    "suburb = \"Ascot-Vale\""
   ]
  },
  {
   "cell_type": "code",
   "execution_count": null,
   "id": "8",
   "metadata": {},
   "outputs": [],
   "source": [
    "dsxl.get_data(suburb)\n",
    "dsxl.list_categories();"
   ]
  },
  {
   "cell_type": "code",
   "execution_count": null,
   "id": "9",
   "metadata": {},
   "outputs": [],
   "source": [
    "df = dsxl.get_category(\"Geography\")"
   ]
  },
  {
   "cell_type": "markdown",
   "id": "10",
   "metadata": {
    "id": "aef640c8"
   },
   "source": [
    "## PCA"
   ]
  },
  {
   "cell_type": "code",
   "execution_count": null,
   "id": "11",
   "metadata": {
    "id": "3d414acf"
   },
   "outputs": [],
   "source": [
    "X_scaled = StandardScaler().fit_transform(X)"
   ]
  },
  {
   "cell_type": "code",
   "execution_count": null,
   "id": "12",
   "metadata": {
    "colab": {
     "base_uri": "https://localhost:8080/",
     "height": 80
    },
    "id": "d0226e81",
    "outputId": "8015f894-6b7e-4b1e-f13e-6d8985f53395"
   },
   "outputs": [],
   "source": [
    "n_components = 4\n",
    "pca = PCA(n_components=n_components)\n",
    "pca.fit(X_scaled)"
   ]
  },
  {
   "cell_type": "code",
   "execution_count": null,
   "id": "13",
   "metadata": {
    "colab": {
     "base_uri": "https://localhost:8080/"
    },
    "id": "1585480e",
    "outputId": "0a15511a-5943-4580-a27e-5c9b8b10ec5b"
   },
   "outputs": [],
   "source": [
    "pca.components_"
   ]
  },
  {
   "cell_type": "code",
   "execution_count": null,
   "id": "14",
   "metadata": {
    "colab": {
     "base_uri": "https://localhost:8080/"
    },
    "id": "5ad11964",
    "outputId": "3f229e10-5b6c-4e46-b4a4-11c7bfff8e63"
   },
   "outputs": [],
   "source": [
    "pca.explained_variance_ratio_"
   ]
  },
  {
   "cell_type": "code",
   "execution_count": null,
   "id": "15",
   "metadata": {
    "colab": {
     "base_uri": "https://localhost:8080/",
     "height": 480
    },
    "id": "7342199a",
    "outputId": "1b84485d-3243-4be1-abc8-f816a4f37b9f"
   },
   "outputs": [],
   "source": [
    "percent_variance = np.round(pca.explained_variance_ratio_ * 100, decimals=2)\n",
    "plt.bar(x=range(4), height=pca.explained_variance_ratio_, tick_label=\"\")\n",
    "plt.ylabel(\"Percentate of variance explained\")\n",
    "plt.xlabel(\"Principal component\")\n",
    "plt.title(\"PCA Scree plot\")\n",
    "plt.show()"
   ]
  },
  {
   "cell_type": "code",
   "execution_count": null,
   "id": "16",
   "metadata": {
    "colab": {
     "base_uri": "https://localhost:8080/",
     "height": 475
    },
    "id": "6e59ab09",
    "outputId": "f5f22fbd-5130-45b3-fdde-7568b57d0625"
   },
   "outputs": [],
   "source": [
    "plt.plot(np.cumsum(pca.explained_variance_ratio_))\n",
    "plt.xlabel('Number of components')\n",
    "plt.ylabel('Cumulative explained variance')\n",
    "plt.show()"
   ]
  },
  {
   "cell_type": "code",
   "execution_count": null,
   "id": "17",
   "metadata": {
    "colab": {
     "base_uri": "https://localhost:8080/"
    },
    "id": "bd0156b8",
    "outputId": "64e882cd-f81a-492e-e940-3ab6dc82e9b1"
   },
   "outputs": [],
   "source": [
    "X_pca = pca.transform(X)"
   ]
  },
  {
   "cell_type": "code",
   "execution_count": null,
   "id": "18",
   "metadata": {},
   "outputs": [],
   "source": [
    "plt.figure(figsize=(10, 7))\n",
    "sns.scatterplot(\n",
    "    x=X_pca[:, 0],\n",
    "    y=X_pca[:, 1],\n",
    "    hue=y.flatten(),\n",
    "    palette=\"viridis\",\n",
    ")\n",
    "plt.xlabel(\"Principal component 1\")\n",
    "plt.ylabel(\"Principal component 2\")\n",
    "plt.title(\"PCA\")\n",
    "plt.legend(title=\"Target\")\n",
    "plt.show()"
   ]
  },
  {
   "cell_type": "markdown",
   "id": "19",
   "metadata": {
    "id": "a4007781"
   },
   "source": [
    "## MDS"
   ]
  },
  {
   "cell_type": "code",
   "execution_count": null,
   "id": "20",
   "metadata": {
    "id": "1d9f7514"
   },
   "outputs": [],
   "source": [
    "from sklearn.manifold import MDS\n",
    "from sklearn import datasets\n",
    "from sklearn.metrics.pairwise import manhattan_distances, euclidean_distances\n",
    "from matplotlib.offsetbox import OffsetImage, AnnotationBbox"
   ]
  },
  {
   "cell_type": "code",
   "execution_count": null,
   "id": "21",
   "metadata": {
    "id": "2a5389b5"
   },
   "outputs": [],
   "source": [
    "def mapData(dist_matrix, X, y, metric, title):\n",
    "    mds = MDS(metric=metric, dissimilarity=\"precomputed\", random_state=0)\n",
    "    pts = mds.fit_transform(dist_matrix)\n",
    "\n",
    "    fig = plt.figure(2, (15, 6))\n",
    "    ax = fig.add_subplot(1, 2, 1)\n",
    "    ax = sns.scatterplot(\n",
    "        x=pts[:, 0],\n",
    "        y=pts[:, 1],\n",
    "        hue=y,\n",
    "        palette=[\"r\", \"g\", \"b\", \"c\"],\n",
    "    )\n",
    "\n",
    "    ax = fig.add_subplot(1, 2, 2)\n",
    "    plt.scatter(pts[:, 0], pts[:, 1])\n",
    "    for x, ind in zip(X, range(pts.shape[0])):\n",
    "        im = x.reshape(64, 64)\n",
    "        imagebox = OffsetImage(im, zoom=0.3, cmap=plt.cm.gray)\n",
    "        i = pts[ind, 0]\n",
    "        j = pts[ind, 1]\n",
    "        ab = AnnotationBbox(imagebox, (i, j), frameon=False)\n",
    "        ax.add_artist(ab)\n",
    "    plt.title(title)\n",
    "    plt.show()"
   ]
  },
  {
   "cell_type": "code",
   "execution_count": null,
   "id": "22",
   "metadata": {
    "colab": {
     "base_uri": "https://localhost:8080/"
    },
    "id": "c13f4410",
    "outputId": "57b060a2-6b93-4ea4-f58e-7bfdeca88633"
   },
   "outputs": [],
   "source": [
    "faces = datasets.fetch_olivetti_faces()\n",
    "X_faces = faces.data\n",
    "y_faces = faces.target\n",
    "ind = y_faces < 4\n",
    "X_faces = X_faces[ind,:]\n",
    "y_faces = y_faces[ind]"
   ]
  },
  {
   "cell_type": "code",
   "execution_count": null,
   "id": "23",
   "metadata": {
    "colab": {
     "base_uri": "https://localhost:8080/",
     "height": 549
    },
    "id": "f57d72a6",
    "outputId": "71dbb982-f799-4fce-8438-b34aa003a773"
   },
   "outputs": [],
   "source": [
    "dist_euclid = euclidean_distances(X_faces)"
   ]
  },
  {
   "cell_type": "code",
   "execution_count": null,
   "id": "24",
   "metadata": {},
   "outputs": [],
   "source": [
    "mapData(dist_euclid, X_faces, y_faces, True, 'Metric MDS with Euclidean')"
   ]
  },
  {
   "cell_type": "code",
   "execution_count": null,
   "id": "25",
   "metadata": {
    "colab": {
     "base_uri": "https://localhost:8080/",
     "height": 549
    },
    "id": "b93516d0",
    "outputId": "03aa9e6c-fd69-4bbf-e0a4-bccfcf938774"
   },
   "outputs": [],
   "source": [
    "mapData(dist_euclid, X_faces, y_faces, False, 'Non-metric MDS with Euclidean')"
   ]
  },
  {
   "cell_type": "code",
   "execution_count": null,
   "id": "26",
   "metadata": {
    "colab": {
     "base_uri": "https://localhost:8080/",
     "height": 458
    },
    "id": "9ae31a7d",
    "outputId": "f42ccf82-1f88-41e7-90e8-c3512aaf3558"
   },
   "outputs": [],
   "source": [
    "stress = []\n",
    "max_dims = 21\n",
    "for dim in range(1, max_dims):\n",
    "    mds = MDS(n_components=dim, dissimilarity=\"precomputed\", random_state=SEED)\n",
    "    pts = mds.fit_transform(dist_euclid)\n",
    "    stress.append(mds.stress_)\n",
    "\n",
    "plt.plot(range(1, max_dims), stress)\n",
    "plt.xticks(range(1, max_dims, 2))\n",
    "plt.xlabel(\"n_components\")\n",
    "plt.ylabel(\"stress\")\n",
    "plt.show()"
   ]
  },
  {
   "cell_type": "code",
   "execution_count": null,
   "id": "27",
   "metadata": {},
   "outputs": [],
   "source": []
  }
 ],
 "metadata": {
  "colab": {
   "provenance": []
  },
  "kernelspec": {
   "display_name": "base",
   "language": "python",
   "name": "python3"
  },
  "language_info": {
   "codemirror_mode": {
    "name": "ipython",
    "version": 3
   },
   "file_extension": ".py",
   "mimetype": "text/x-python",
   "name": "python",
   "nbconvert_exporter": "python",
   "pygments_lexer": "ipython3",
   "version": "3.12.7"
  }
 },
 "nbformat": 4,
 "nbformat_minor": 5
}
