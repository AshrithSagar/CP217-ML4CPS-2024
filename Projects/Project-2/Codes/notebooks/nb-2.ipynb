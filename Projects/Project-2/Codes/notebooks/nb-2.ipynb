{
 "cells": [
  {
   "cell_type": "markdown",
   "id": "0",
   "metadata": {
    "id": "dc65adbc"
   },
   "source": [
    "# ML4CPS Project-2 | NB-2"
   ]
  },
  {
   "cell_type": "code",
   "execution_count": null,
   "id": "1",
   "metadata": {},
   "outputs": [],
   "source": [
    "import os\n",
    "import sys\n",
    "\n",
    "basepath = os.path.abspath(os.path.join(\"..\"))\n",
    "if not basepath in sys.path:\n",
    "    sys.path.append(basepath)\n",
    "\n",
    "%load_ext autoreload\n",
    "%autoreload 2"
   ]
  },
  {
   "cell_type": "code",
   "execution_count": null,
   "id": "2",
   "metadata": {
    "id": "23dfd585"
   },
   "outputs": [],
   "source": [
    "import numpy as np\n",
    "import matplotlib.pyplot as plt\n",
    "import pandas as pd\n",
    "from sklearn.decomposition import PCA\n",
    "import seaborn as sns\n",
    "from sklearn.preprocessing import StandardScaler\n",
    "%matplotlib inline"
   ]
  },
  {
   "cell_type": "code",
   "execution_count": null,
   "id": "3",
   "metadata": {},
   "outputs": [],
   "source": [
    "from utils.dataset import DatasetLoaderXL"
   ]
  },
  {
   "cell_type": "code",
   "execution_count": null,
   "id": "4",
   "metadata": {},
   "outputs": [],
   "source": [
    "SEED = 42"
   ]
  },
  {
   "cell_type": "markdown",
   "id": "5",
   "metadata": {},
   "source": [
    "## Load dataset"
   ]
  },
  {
   "cell_type": "code",
   "execution_count": null,
   "id": "6",
   "metadata": {},
   "outputs": [],
   "source": [
    "dsxl = DatasetLoaderXL(dataset_dir=\"../dataset\")\n",
    "dsxl.load_all_datasets()"
   ]
  },
  {
   "cell_type": "code",
   "execution_count": null,
   "id": "7",
   "metadata": {},
   "outputs": [],
   "source": [
    "dsxl.list_categories()"
   ]
  },
  {
   "cell_type": "code",
   "execution_count": null,
   "id": "8",
   "metadata": {},
   "outputs": [],
   "source": [
    "dsxl.get_category_across_all_suburbs(\"Geography\")\n",
    "df = dsxl.get_values_for_subcategory_across_all_suburbs()"
   ]
  },
  {
   "cell_type": "code",
   "execution_count": null,
   "id": "9",
   "metadata": {},
   "outputs": [],
   "source": [
    "subset_df = df.iloc[:, [0, 5, 7]]\n",
    "subset_df"
   ]
  },
  {
   "cell_type": "code",
   "execution_count": null,
   "id": "10",
   "metadata": {},
   "outputs": [],
   "source": [
    "df.columns"
   ]
  },
  {
   "cell_type": "code",
   "execution_count": null,
   "id": "11",
   "metadata": {},
   "outputs": [],
   "source": [
    "df.index"
   ]
  },
  {
   "cell_type": "code",
   "execution_count": null,
   "id": "12",
   "metadata": {},
   "outputs": [],
   "source": [
    "from sklearn.metrics.pairwise import euclidean_distances\n",
    "\n",
    "subset_df_numeric = subset_df[['Area (km^2)', 'Distance to GPO (km)']].apply(pd.to_numeric, errors='coerce')\n",
    "subset_df_numeric = subset_df_numeric.fillna(0)\n",
    "\n",
    "geo_proximity_dist_matrix = euclidean_distances(subset_df_numeric)\n",
    "geo_proximity_sim_matrix = 1 / (1 + geo_proximity_dist_matrix)\n",
    "geo_proximity_sim_matrix"
   ]
  },
  {
   "cell_type": "code",
   "execution_count": null,
   "id": "13",
   "metadata": {},
   "outputs": [],
   "source": [
    "plt.figure(figsize=(10, 8))\n",
    "sns.heatmap(geo_proximity_dist_matrix, cmap='viridis')\n",
    "plt.title('Euclidean Distance Matrix')\n",
    "plt.xlabel('Suburbs')\n",
    "plt.ylabel('Suburbs')\n",
    "plt.show()"
   ]
  },
  {
   "cell_type": "code",
   "execution_count": null,
   "id": "14",
   "metadata": {},
   "outputs": [],
   "source": [
    "plt.figure(figsize=(10, 8))\n",
    "sns.heatmap(geo_proximity_sim_matrix, cmap='viridis')\n",
    "plt.title('Geographic Proximity Similarity Matrix')\n",
    "plt.xlabel('Suburbs')\n",
    "plt.ylabel('Suburbs')\n",
    "plt.show()"
   ]
  },
  {
   "cell_type": "code",
   "execution_count": null,
   "id": "15",
   "metadata": {},
   "outputs": [],
   "source": [
    "from sklearn.cluster import KMeans\n",
    "\n",
    "kmeans = KMeans(n_clusters=5, random_state=SEED)\n",
    "clusters = kmeans.fit_predict(geo_proximity_dist_matrix)"
   ]
  },
  {
   "cell_type": "code",
   "execution_count": null,
   "id": "16",
   "metadata": {},
   "outputs": [],
   "source": [
    "plt.figure(figsize=(10, 7))\n",
    "sns.scatterplot(\n",
    "    x=subset_df['Area (km^2)'],\n",
    "    y=subset_df['Distance to GPO (km)'],\n",
    "    hue=clusters,\n",
    "    palette=\"viridis\",\n",
    "    s=100,\n",
    "    alpha=0.7,\n",
    "    edgecolor='k'\n",
    ")\n",
    "plt.xlabel(\"Area (km^2)\")\n",
    "plt.ylabel(\"Distance to GPO (km)\")\n",
    "plt.title(\"KMeans Clustering Visualization\")\n",
    "plt.legend(title=\"Cluster\")\n",
    "plt.show()"
   ]
  },
  {
   "cell_type": "code",
   "execution_count": null,
   "id": "17",
   "metadata": {},
   "outputs": [],
   "source": [
    "pca = PCA(n_components=2)\n",
    "pca_result = pca.fit_transform(geo_proximity_dist_matrix)\n",
    "\n",
    "plt.figure(figsize=(10, 8))\n",
    "plt.scatter(pca_result[:, 0], pca_result[:, 1], c=clusters, cmap='viridis')\n",
    "plt.title('PCA of Euclidean Distance Matrix')\n",
    "plt.xlabel('Principal Component 1')\n",
    "plt.ylabel('Principal Component 2')\n",
    "plt.show()"
   ]
  },
  {
   "cell_type": "code",
   "execution_count": null,
   "id": "18",
   "metadata": {},
   "outputs": [],
   "source": []
  }
 ],
 "metadata": {
  "colab": {
   "provenance": []
  },
  "kernelspec": {
   "display_name": "base",
   "language": "python",
   "name": "python3"
  },
  "language_info": {
   "codemirror_mode": {
    "name": "ipython",
    "version": 3
   },
   "file_extension": ".py",
   "mimetype": "text/x-python",
   "name": "python",
   "nbconvert_exporter": "python",
   "pygments_lexer": "ipython3",
   "version": "3.12.7"
  }
 },
 "nbformat": 4,
 "nbformat_minor": 5
}
